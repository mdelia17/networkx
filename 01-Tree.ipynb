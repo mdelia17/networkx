{
 "cells": [
  {
   "cell_type": "code",
   "execution_count": 1,
   "metadata": {},
   "outputs": [],
   "source": [
    "#!git clone https://github.com/aijanai/networkx.git"
   ]
  },
  {
   "cell_type": "code",
   "execution_count": 2,
   "metadata": {},
   "outputs": [
    {
     "name": "stdout",
     "output_type": "stream",
     "text": [
      "Your branch is up to date with 'origin/uniform_cost'.\n",
      "On branch uniform_cost\n",
      "Your branch is up to date with 'origin/uniform_cost'.\n",
      "\n",
      "Untracked files:\n",
      "  (use \"git add <file>...\" to include in what will be committed)\n",
      "\t01-Tree.ipynb\n",
      "\t02-Graph_Search.ipynb\n",
      "\tnetworkx/algorithms/shortest_paths/greedy.py\n",
      "\n",
      "nothing added to commit but untracked files present (use \"git add\" to track)\n",
      "Requirement already satisfied: decorator>=4.3.0 in c:\\users\\marco\\anaconda3\\lib\\site-packages (from -r requirements/default.txt (line 1)) (4.4.1)\n",
      "Requirement already satisfied: pytest>=5.2.1 in c:\\users\\marco\\anaconda3\\lib\\site-packages (from -r requirements/test.txt (line 1)) (5.3.5)\n",
      "Requirement already satisfied: pytest-cov>=2.8.1 in c:\\users\\marco\\anaconda3\\lib\\site-packages (from -r requirements/test.txt (line 2)) (2.8.1)\n",
      "Requirement already satisfied: codecov>=2.0.15 in c:\\users\\marco\\anaconda3\\lib\\site-packages (from -r requirements/test.txt (line 3)) (2.0.22)\n",
      "Requirement already satisfied: py>=1.5.0 in c:\\users\\marco\\anaconda3\\lib\\site-packages (from pytest>=5.2.1->-r requirements/test.txt (line 1)) (1.8.1)\n",
      "Requirement already satisfied: packaging in c:\\users\\marco\\anaconda3\\lib\\site-packages (from pytest>=5.2.1->-r requirements/test.txt (line 1)) (20.1)\n",
      "Requirement already satisfied: attrs>=17.4.0 in c:\\users\\marco\\anaconda3\\lib\\site-packages (from pytest>=5.2.1->-r requirements/test.txt (line 1)) (19.3.0)\n",
      "Requirement already satisfied: more-itertools>=4.0.0 in c:\\users\\marco\\anaconda3\\lib\\site-packages (from pytest>=5.2.1->-r requirements/test.txt (line 1)) (8.2.0)\n",
      "Requirement already satisfied: pluggy<1.0,>=0.12 in c:\\users\\marco\\anaconda3\\lib\\site-packages (from pytest>=5.2.1->-r requirements/test.txt (line 1)) (0.13.1)\n",
      "Requirement already satisfied: wcwidth in c:\\users\\marco\\anaconda3\\lib\\site-packages (from pytest>=5.2.1->-r requirements/test.txt (line 1)) (0.1.8)\n",
      "Requirement already satisfied: importlib-metadata>=0.12 in c:\\users\\marco\\anaconda3\\lib\\site-packages (from pytest>=5.2.1->-r requirements/test.txt (line 1)) (1.5.0)\n",
      "Requirement already satisfied: atomicwrites>=1.0 in c:\\users\\marco\\anaconda3\\lib\\site-packages (from pytest>=5.2.1->-r requirements/test.txt (line 1)) (1.3.0)\n",
      "Requirement already satisfied: colorama in c:\\users\\marco\\anaconda3\\lib\\site-packages (from pytest>=5.2.1->-r requirements/test.txt (line 1)) (0.4.3)\n",
      "Requirement already satisfied: coverage>=4.4 in c:\\users\\marco\\anaconda3\\lib\\site-packages (from pytest-cov>=2.8.1->-r requirements/test.txt (line 2)) (5.0.4)\n",
      "Requirement already satisfied: requests>=2.7.9 in c:\\users\\marco\\anaconda3\\lib\\site-packages (from codecov>=2.0.15->-r requirements/test.txt (line 3)) (2.22.0)\n",
      "Requirement already satisfied: six in c:\\users\\marco\\anaconda3\\lib\\site-packages (from packaging->pytest>=5.2.1->-r requirements/test.txt (line 1)) (1.14.0)\n",
      "Requirement already satisfied: pyparsing>=2.0.2 in c:\\users\\marco\\anaconda3\\lib\\site-packages (from packaging->pytest>=5.2.1->-r requirements/test.txt (line 1)) (2.4.6)\n",
      "Requirement already satisfied: zipp>=0.5 in c:\\users\\marco\\anaconda3\\lib\\site-packages (from importlib-metadata>=0.12->pytest>=5.2.1->-r requirements/test.txt (line 1)) (2.2.0)\n",
      "Requirement already satisfied: certifi>=2017.4.17 in c:\\users\\marco\\anaconda3\\lib\\site-packages (from requests>=2.7.9->codecov>=2.0.15->-r requirements/test.txt (line 3)) (2019.11.28)\n",
      "Requirement already satisfied: chardet<3.1.0,>=3.0.2 in c:\\users\\marco\\anaconda3\\lib\\site-packages (from requests>=2.7.9->codecov>=2.0.15->-r requirements/test.txt (line 3)) (3.0.4)\n",
      "Requirement already satisfied: urllib3!=1.25.0,!=1.25.1,<1.26,>=1.21.1 in c:\\users\\marco\\anaconda3\\lib\\site-packages (from requests>=2.7.9->codecov>=2.0.15->-r requirements/test.txt (line 3)) (1.25.8)\n",
      "Requirement already satisfied: idna<2.9,>=2.5 in c:\\users\\marco\\anaconda3\\lib\\site-packages (from requests>=2.7.9->codecov>=2.0.15->-r requirements/test.txt (line 3)) (2.8)\n",
      "Obtaining file:///C:/Users/Marco/networkx\n",
      "Requirement already satisfied: decorator>=4.3.0 in c:\\users\\marco\\anaconda3\\lib\\site-packages (from networkx==2.5rc1.dev20200408120114) (4.4.1)\n",
      "Installing collected packages: networkx\n",
      "  Attempting uninstall: networkx\n",
      "    Found existing installation: networkx 2.5rc1.dev20200408120114\n",
      "    Uninstalling networkx-2.5rc1.dev20200408120114:\n",
      "      Successfully uninstalled networkx-2.5rc1.dev20200408120114\n",
      "  Running setup.py develop for networkx\n",
      "Successfully installed networkx\n"
     ]
    },
    {
     "name": "stderr",
     "output_type": "stream",
     "text": [
      "Already on 'uniform_cost'\n"
     ]
    }
   ],
   "source": [
    "!cd ../networkx && git checkout uniform_cost && git status && pip install -r requirements.txt && pip install -e ."
   ]
  },
  {
   "cell_type": "code",
   "execution_count": 3,
   "metadata": {},
   "outputs": [],
   "source": [
    "%matplotlib inline"
   ]
  },
  {
   "cell_type": "code",
   "execution_count": 4,
   "metadata": {},
   "outputs": [],
   "source": [
    "import networkx as nx\n",
    "import matplotlib.pyplot as plt"
   ]
  },
  {
   "cell_type": "markdown",
   "metadata": {},
   "source": [
    "## Preparazione"
   ]
  },
  {
   "cell_type": "markdown",
   "metadata": {},
   "source": [
    "Creiamo l'albero di profondità 2 visto nelle slide:"
   ]
  },
  {
   "cell_type": "code",
   "execution_count": 5,
   "metadata": {},
   "outputs": [],
   "source": [
    "g = nx.Graph()\n",
    "\n",
    "g.add_edge('A','B')\n",
    "g.add_edge('A','C')\n",
    "g.add_edge('D','B')\n",
    "g.add_edge('E','B')\n",
    "g.add_edge('C','F')\n",
    "g.add_edge('C','G')"
   ]
  },
  {
   "cell_type": "code",
   "execution_count": 6,
   "metadata": {},
   "outputs": [
    {
     "data": {
      "image/png": "[encoded data removed]",
      "text/plain": [
       "<Figure size 432x288 with 1 Axes>"
      ]
     },
     "metadata": {},
     "output_type": "display_data"
    }
   ],
   "source": [
    "nx.draw(g)"
   ]
  },
  {
   "cell_type": "markdown",
   "metadata": {},
   "source": [
    "## Visita in ampiezza"
   ]
  },
  {
   "cell_type": "markdown",
   "metadata": {},
   "source": [
    "Facciamo una visita in ampiezza:"
   ]
  },
  {
   "cell_type": "code",
   "execution_count": 7,
   "metadata": {},
   "outputs": [
    {
     "name": "stdout",
     "output_type": "stream",
     "text": [
      "Inizio la visita dal nodo  A\n",
      "Sto visitando il nodo  B\n",
      "Sto visitando il nodo  C\n",
      "Sto visitando il nodo  D\n",
      "Sto visitando il nodo  E\n",
      "Sto visitando il nodo  F\n",
      "Sto visitando il nodo  G\n"
     ]
    },
    {
     "data": {
      "text/plain": [
       "[('A', 'B'), ('A', 'C'), ('B', 'D'), ('B', 'E'), ('C', 'F'), ('C', 'G')]"
      ]
     },
     "execution_count": 7,
     "metadata": {},
     "output_type": "execute_result"
    }
   ],
   "source": [
    "list(nx.bfs_edges(g,source='A'))"
   ]
  },
  {
   "cell_type": "markdown",
   "metadata": {},
   "source": [
    "## Visita guidata dal costo"
   ]
  },
  {
   "cell_type": "code",
   "execution_count": 8,
   "metadata": {},
   "outputs": [
    {
     "name": "stdout",
     "output_type": "stream",
     "text": [
      "Inizio la visita dal nodo  A\n",
      "Sto visitando il nodo  A con costo  0\n",
      "Sto visitando il nodo  C con costo  2\n",
      "Sto visitando il nodo  B con costo  5\n",
      "Sto visitando il nodo  F con costo  6\n",
      "Sto visitando il nodo  E con costo  11\n",
      "Sto visitando il nodo  G con costo  12\n",
      "Sto visitando il nodo  D con costo  14\n"
     ]
    },
    {
     "data": {
      "text/plain": [
       "[('A', 'C'), ('A', 'B'), ('C', 'F'), ('B', 'E'), ('C', 'G'), ('B', 'D')]"
      ]
     },
     "execution_count": 8,
     "metadata": {},
     "output_type": "execute_result"
    }
   ],
   "source": [
    "g = nx.Graph()\n",
    "g.add_nodes_from(['A','B','C','D','E','F','G'])\n",
    "g.add_edges_from([('A','B', {'weight': 5}), ('A','C', {'weight': 2}), ('D','B', {'weight': 9}), ('E','B', {'weight': 6}), ('C','F', {'weight': 4}), ('C','G', {'weight': 10})])\n",
    "list(nx.ucs_edges(g, source='A'))"
   ]
  },
  {
   "cell_type": "markdown",
   "metadata": {},
   "source": [
    "## Visita in profondità"
   ]
  },
  {
   "cell_type": "markdown",
   "metadata": {},
   "source": [
    "Facciamo una visita in profondità:"
   ]
  },
  {
   "cell_type": "code",
   "execution_count": 9,
   "metadata": {},
   "outputs": [
    {
     "name": "stdout",
     "output_type": "stream",
     "text": [
      "Inizio la visita dal nodo  A\n",
      "Sto visitando il nodo  B\n",
      "Sto visitando il nodo  D\n",
      "Sto visitando il nodo  E\n",
      "Sto visitando il nodo  C\n",
      "Sto visitando il nodo  F\n",
      "Sto visitando il nodo  G\n"
     ]
    },
    {
     "data": {
      "text/plain": [
       "[('A', 'B'), ('B', 'D'), ('B', 'E'), ('A', 'C'), ('C', 'F'), ('C', 'G')]"
      ]
     },
     "execution_count": 9,
     "metadata": {},
     "output_type": "execute_result"
    }
   ],
   "source": [
    "list(nx.dfs_edges(g,'A'))"
   ]
  },
  {
   "cell_type": "markdown",
   "metadata": {},
   "source": [
    "## Alberi generici"
   ]
  },
  {
   "cell_type": "markdown",
   "metadata": {},
   "source": [
    "Possiamo anche generare alberi di qualunque dimensione:"
   ]
  },
  {
   "cell_type": "code",
   "execution_count": 10,
   "metadata": {},
   "outputs": [],
   "source": [
    "t = nx.balanced_tree(2,4)"
   ]
  },
  {
   "cell_type": "code",
   "execution_count": 11,
   "metadata": {},
   "outputs": [
    {
     "data": {
      "image/png": "[encoded data removed]",
      "text/plain": [
       "<Figure size 432x288 with 1 Axes>"
      ]
     },
     "metadata": {},
     "output_type": "display_data"
    }
   ],
   "source": [
    "nx.draw(t)\n",
    "plt.show()"
   ]
  },
  {
   "cell_type": "code",
   "execution_count": 12,
   "metadata": {},
   "outputs": [
    {
     "name": "stdout",
     "output_type": "stream",
     "text": [
      "Sto visitando il nodo  1\n",
      "Sto visitando il nodo  3\n",
      "Sto visitando il nodo  7\n",
      "Sto visitando il nodo  15\n",
      "Sto visitando il nodo  16\n",
      "Sto visitando il nodo  8\n",
      "Sto visitando il nodo  17\n",
      "Sto visitando il nodo  18\n",
      "Sto visitando il nodo  4\n",
      "Sto visitando il nodo  9\n",
      "Sto visitando il nodo  19\n",
      "Sto visitando il nodo  20\n",
      "Sto visitando il nodo  10\n",
      "Sto visitando il nodo  21\n",
      "Sto visitando il nodo  22\n",
      "Sto visitando il nodo  2\n",
      "Sto visitando il nodo  5\n",
      "Sto visitando il nodo  11\n",
      "Sto visitando il nodo  23\n",
      "Sto visitando il nodo  24\n",
      "Sto visitando il nodo  12\n",
      "Sto visitando il nodo  25\n",
      "Sto visitando il nodo  26\n",
      "Sto visitando il nodo  6\n",
      "Sto visitando il nodo  13\n",
      "Sto visitando il nodo  27\n",
      "Sto visitando il nodo  28\n",
      "Sto visitando il nodo  14\n",
      "Sto visitando il nodo  29\n",
      "Sto visitando il nodo  30\n"
     ]
    },
    {
     "data": {
      "text/plain": [
       "[(0, 1),\n",
       " (1, 3),\n",
       " (3, 7),\n",
       " (7, 15),\n",
       " (7, 16),\n",
       " (3, 8),\n",
       " (8, 17),\n",
       " (8, 18),\n",
       " (1, 4),\n",
       " (4, 9),\n",
       " (9, 19),\n",
       " (9, 20),\n",
       " (4, 10),\n",
       " (10, 21),\n",
       " (10, 22),\n",
       " (0, 2),\n",
       " (2, 5),\n",
       " (5, 11),\n",
       " (11, 23),\n",
       " (11, 24),\n",
       " (5, 12),\n",
       " (12, 25),\n",
       " (12, 26),\n",
       " (2, 6),\n",
       " (6, 13),\n",
       " (13, 27),\n",
       " (13, 28),\n",
       " (6, 14),\n",
       " (14, 29),\n",
       " (14, 30)]"
      ]
     },
     "execution_count": 12,
     "metadata": {},
     "output_type": "execute_result"
    }
   ],
   "source": [
    "list(nx.dfs_edges(t))"
   ]
  },
  {
   "cell_type": "code",
   "execution_count": null,
   "metadata": {},
   "outputs": [],
   "source": []
  }
 ],
 "metadata": {
  "kernelspec": {
   "display_name": "Python 3",
   "language": "python",
   "name": "python3"
  },
  "language_info": {
   "codemirror_mode": {
    "name": "ipython",
    "version": 3
   },
   "file_extension": ".py",
   "mimetype": "text/x-python",
   "name": "python",
   "nbconvert_exporter": "python",
   "pygments_lexer": "ipython3",
   "version": "3.7.6"
  }
 },
 "nbformat": 4,
 "nbformat_minor": 4
}
